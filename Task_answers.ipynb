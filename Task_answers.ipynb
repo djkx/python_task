{
 "cells": [
  {
   "cell_type": "markdown",
   "id": "c6a01a3f-4f90-4118-b924-2a3f44cc3eef",
   "metadata": {},
   "source": [
    "## Import modules"
   ]
  },
  {
   "cell_type": "code",
   "execution_count": 178,
   "id": "8e944a4b-61b9-4c5c-8ee0-e7b736f1c5ec",
   "metadata": {},
   "outputs": [],
   "source": [
    "import csv\n",
    "from datetime import datetime"
   ]
  },
  {
   "cell_type": "markdown",
   "id": "765ebc96-585b-4497-abbf-5df5cd55a1fc",
   "metadata": {},
   "source": [
    "## Read data"
   ]
  },
  {
   "cell_type": "code",
   "execution_count": 179,
   "id": "764e3d11-0324-42e2-988b-c6be8fb5a485",
   "metadata": {},
   "outputs": [],
   "source": [
    "red = list()\n",
    "yellow = list()\n",
    "green = list()\n",
    "time_active = list()\n",
    "time = list()\n",
    "list_of_rows = list()"
   ]
  },
  {
   "cell_type": "code",
   "execution_count": 180,
   "id": "41aaa91e-33ad-477d-8527-0ba3c84fd68a",
   "metadata": {},
   "outputs": [],
   "source": [
    "with open('task/data.txt', newline='') as csvfile:\n",
    "    rows = csv.reader(csvfile, delimiter=' ', quotechar='|')\n",
    "    for no, row in enumerate(rows):\n",
    "        split_string = row[0].split(\",\")\n",
    "        if no > 0:\n",
    "            list_of_rows.append(\n",
    "                [\n",
    "                    int(split_string[0]),\n",
    "                    int(split_string[1]),\n",
    "                    int(split_string[2])\n",
    "                ]\n",
    "            )\n",
    "            red.append(int(split_string[0]))\n",
    "            yellow.append(int(split_string[1]))\n",
    "            green.append(int(split_string[2]))\n",
    "            time_active.append(int(split_string[3]))\n",
    "            time.append(split_string[4])#datetime.strptime(split_string[4], '%H:%M:%S'))"
   ]
  },
  {
   "cell_type": "markdown",
   "id": "aa36b6a7-14fc-4136-a030-7200962aa9ad",
   "metadata": {},
   "source": [
    "## Task 1: Red, yellow and green occurence count"
   ]
  },
  {
   "cell_type": "code",
   "execution_count": 181,
   "id": "a9acad0b-3ea6-4824-aa81-6a5187bede62",
   "metadata": {},
   "outputs": [
    {
     "data": {
      "text/plain": [
       "(4020, 7655, 3996)"
      ]
     },
     "execution_count": 181,
     "metadata": {},
     "output_type": "execute_result"
    }
   ],
   "source": [
    "sum(red), sum(yellow), sum(green)"
   ]
  },
  {
   "cell_type": "markdown",
   "id": "3dd2e268-5b9f-4593-bc10-0af8d3939a52",
   "metadata": {},
   "source": [
    "## Task 2: Each color activity time"
   ]
  },
  {
   "cell_type": "code",
   "execution_count": 182,
   "id": "665e9421-214b-4407-a4f6-388f6a5bd30a",
   "metadata": {},
   "outputs": [],
   "source": [
    "red_active_index_list = list()\n",
    "for no, value in enumerate(red):\n",
    "    if value == 1:\n",
    "        red_active_index_list.append(no)"
   ]
  },
  {
   "cell_type": "code",
   "execution_count": 183,
   "id": "0f7ca84f-c268-4b42-b1b2-84b4d5817b2e",
   "metadata": {},
   "outputs": [],
   "source": [
    "yellow_active_index_list = list()\n",
    "for no, value in enumerate(yellow):\n",
    "    if value == 1:\n",
    "        yellow_active_index_list.append(no)"
   ]
  },
  {
   "cell_type": "code",
   "execution_count": 184,
   "id": "94f71a20-1d1b-4729-a5d0-95d183b56c54",
   "metadata": {},
   "outputs": [],
   "source": [
    "green_active_index_list = list()\n",
    "for no, value in enumerate(green):\n",
    "    if value == 1:\n",
    "        green_active_index_list.append(no)"
   ]
  },
  {
   "cell_type": "code",
   "execution_count": 185,
   "id": "9650c63f-7042-4c65-845a-191017ea3b72",
   "metadata": {},
   "outputs": [],
   "source": [
    "red_time_active_list = [time_active[x] for x in red_active_index_list]\n",
    "yellow_time_active_list = [time_active[x] for x in yellow_active_index_list]\n",
    "green_time_active_list = [time_active[x] for x in green_active_index_list]"
   ]
  },
  {
   "cell_type": "code",
   "execution_count": 186,
   "id": "b87c9c8d-0786-4a5c-90d9-b23f98ba31d9",
   "metadata": {},
   "outputs": [
    {
     "data": {
      "text/plain": [
       "(20118, 38148, 20194)"
      ]
     },
     "execution_count": 186,
     "metadata": {},
     "output_type": "execute_result"
    }
   ],
   "source": [
    "# activity time for each color (red, yellow, green) in seconds\n",
    "sum(red_time_active_list), sum(yellow_time_active_list), sum(green_time_active_list)"
   ]
  },
  {
   "cell_type": "markdown",
   "id": "e1e6f8ca-f57a-4be8-a325-086e08d7feda",
   "metadata": {},
   "source": [
    "## Task 3: All times when Green was active"
   ]
  },
  {
   "cell_type": "code",
   "execution_count": 187,
   "id": "a0dc39d9-1ab7-4dde-802e-e006b00f9138",
   "metadata": {},
   "outputs": [],
   "source": [
    "green_active_time_list = [time[x] for x in green_index_list]"
   ]
  },
  {
   "cell_type": "code",
   "execution_count": 188,
   "id": "c0209493-4c71-4ae4-9e87-89f22fd48e08",
   "metadata": {},
   "outputs": [
    {
     "data": {
      "text/plain": [
       "['0:00:13',\n",
       " '0:00:29',\n",
       " '0:00:40',\n",
       " '0:00:52',\n",
       " '0:01:13',\n",
       " '0:01:40',\n",
       " '0:01:47',\n",
       " '0:02:12',\n",
       " '0:02:39',\n",
       " '0:03:03']"
      ]
     },
     "execution_count": 188,
     "metadata": {},
     "output_type": "execute_result"
    }
   ],
   "source": [
    "green_active_time_list[:10]"
   ]
  },
  {
   "cell_type": "markdown",
   "id": "1b50d8de-a4d3-4039-abe1-f600027f2af0",
   "metadata": {},
   "source": [
    "## Task 4: The number of complete cycles (Red-Yellow-Green-Yellow-Red)"
   ]
  },
  {
   "cell_type": "code",
   "execution_count": 189,
   "id": "eb35bd95-cb15-4271-9eb5-6a9683a6f9f3",
   "metadata": {},
   "outputs": [],
   "source": [
    "counter = 0\n",
    "for no_i, row in enumerate(list_of_rows[:-4]):\n",
    "    if list_of_rows[no_i][0] == 1 and\\\n",
    "        list_of_rows[no_i+1][1] == 1 and\\\n",
    "        list_of_rows[no_i+2][2] == 1 and\\\n",
    "        list_of_rows[no_i+3][1] == 1 and\\\n",
    "        list_of_rows[no_i+4][0] == 1:\n",
    "        counter +=1"
   ]
  },
  {
   "cell_type": "code",
   "execution_count": 190,
   "id": "773eca0d-2822-4589-b810-2a81b8f94404",
   "metadata": {},
   "outputs": [
    {
     "name": "stdout",
     "output_type": "stream",
     "text": [
      "3749\n"
     ]
    }
   ],
   "source": [
    "print(counter)"
   ]
  },
  {
   "cell_type": "markdown",
   "id": "4de593ec-1d23-4518-a1de-910791fd12c7",
   "metadata": {},
   "source": [
    "## Task 5: Number of lines with mistakes (multiple colours active at the same time or no colours active)"
   ]
  },
  {
   "cell_type": "code",
   "execution_count": 191,
   "id": "d865c527-164f-485f-aaa9-19a2214a554f",
   "metadata": {},
   "outputs": [],
   "source": [
    "# solution number 1\n",
    "counter = 0\n",
    "for no, row in enumerate(list_of_rows):\n",
    "    row_sum = sum(row)\n",
    "    if row_sum != 1:\n",
    "        counter += 1"
   ]
  },
  {
   "cell_type": "code",
   "execution_count": 192,
   "id": "1dc1c8ce-5a1d-4cfc-b588-7f0f355c27b3",
   "metadata": {},
   "outputs": [
    {
     "name": "stdout",
     "output_type": "stream",
     "text": [
      "671\n"
     ]
    }
   ],
   "source": [
    "print(counter)"
   ]
  }
 ],
 "metadata": {
  "kernelspec": {
   "display_name": "Python 3 (ipykernel)",
   "language": "python",
   "name": "python3"
  },
  "language_info": {
   "codemirror_mode": {
    "name": "ipython",
    "version": 3
   },
   "file_extension": ".py",
   "mimetype": "text/x-python",
   "name": "python",
   "nbconvert_exporter": "python",
   "pygments_lexer": "ipython3",
   "version": "3.11.6"
  }
 },
 "nbformat": 4,
 "nbformat_minor": 5
}
